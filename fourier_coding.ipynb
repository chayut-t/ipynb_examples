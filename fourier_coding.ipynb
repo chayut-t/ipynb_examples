{
 "metadata": {
  "name": "",
  "signature": "sha256:2c00877297e0c421abc08489102fd5379ec0e2157b895cf9f462de4e2bd2a588"
 },
 "nbformat": 3,
 "nbformat_minor": 0,
 "worksheets": [
  {
   "cells": [
    {
     "cell_type": "code",
     "collapsed": false,
     "input": [
      "# Import here\n",
      "%matplotlib inline\n",
      "import matplotlib.pylab as pylab\n",
      "import matplotlib.pyplot as plt\n",
      "import numpy as np\n",
      "import theano\n",
      "import theano.tensor as T\n",
      "\n",
      "pylab.rcParams['figure.figsize'] = (9.0, 6.0)"
     ],
     "language": "python",
     "metadata": {},
     "outputs": [],
     "prompt_number": 1
    },
    {
     "cell_type": "code",
     "collapsed": false,
     "input": [
      "def fourier_coeffs(x, n_max=8):\n",
      "    n = np.arange(n_max).reshape((n_max, 1)) + 1.\n",
      "    phase = 2. * np.pi * n * x\n",
      "    c_sin = np.sin(phase)\n",
      "    c_cos = np.cos(phase)\n",
      "    return np.concatenate((c_sin, c_cos), axis=0)"
     ],
     "language": "python",
     "metadata": {},
     "outputs": [],
     "prompt_number": 2
    },
    {
     "cell_type": "code",
     "collapsed": false,
     "input": [
      "t_x, t_y, t_nu = T.fmatrices('x', 'y', 'nu')\n",
      "t_A = T.fmatrix(name='A')\n",
      "t_a = T.fscalar(name='a')\n",
      "t_xhat = T.dot(t_A, t_y + t_nu) + t_a\n",
      "cost = T.mean((t_xhat - t_x) ** 2)\n",
      "t_dA = T.grad(cost, t_A)\n",
      "t_da = T.grad(cost, t_a)\n",
      "f = theano.function(inputs=[t_x, t_y, t_nu, t_A, t_a],\n",
      "                    outputs=[cost, t_xhat, t_dA, t_da])"
     ],
     "language": "python",
     "metadata": {},
     "outputs": [],
     "prompt_number": 3
    },
    {
     "cell_type": "code",
     "collapsed": false,
     "input": [
      "n_max = 64\n",
      "dim_fourier = 2 * n_max\n",
      "A = np.ones((1, dim_fourier), dtype=np.float32) / dim_fourier\n",
      "a = np.float32(0.)"
     ],
     "language": "python",
     "metadata": {},
     "outputs": [],
     "prompt_number": 32
    },
    {
     "cell_type": "code",
     "collapsed": false,
     "input": [
      "sigma = 0.0\n",
      "dim_batch = 1024\n",
      "eta = np.float32(0.01)\n",
      "for t in range(1000):\n",
      "    x = 1.0 * np.random.uniform(size=(1, dim_batch)).astype(np.float32)\n",
      "    y = fourier_coeffs(x, n_max=n_max).astype(np.float32)\n",
      "    nu = sigma * np.random.randn(dim_fourier, dim_batch).astype(np.float32)\n",
      "    cost, xhat, dA, da = f(x, y, nu, A, a)\n",
      "    if (t + 1) % 100 == 0:\n",
      "        print (t + 1), ':', cost\n",
      "    A -= eta * dA\n",
      "    a -= eta * da"
     ],
     "language": "python",
     "metadata": {},
     "outputs": [
      {
       "output_type": "stream",
       "stream": "stdout",
       "text": [
        "100 : 0.0185615569353\n",
        "200"
       ]
      },
      {
       "output_type": "stream",
       "stream": "stdout",
       "text": [
        " : 0.00232937792316\n",
        "300"
       ]
      },
      {
       "output_type": "stream",
       "stream": "stdout",
       "text": [
        " : 0.00123705680016\n",
        "400"
       ]
      },
      {
       "output_type": "stream",
       "stream": "stdout",
       "text": [
        " : 0.00062116998015\n",
        "500"
       ]
      },
      {
       "output_type": "stream",
       "stream": "stdout",
       "text": [
        " : 0.000513570499606\n",
        "600"
       ]
      },
      {
       "output_type": "stream",
       "stream": "stdout",
       "text": [
        " : 0.000686192302965\n",
        "700"
       ]
      },
      {
       "output_type": "stream",
       "stream": "stdout",
       "text": [
        " : 0.000486438802909\n",
        "800"
       ]
      },
      {
       "output_type": "stream",
       "stream": "stdout",
       "text": [
        " : 0.00128111231606\n",
        "900"
       ]
      },
      {
       "output_type": "stream",
       "stream": "stdout",
       "text": [
        " : 0.000822594796773\n",
        "1000"
       ]
      },
      {
       "output_type": "stream",
       "stream": "stdout",
       "text": [
        " : 0.000632619252428\n"
       ]
      }
     ],
     "prompt_number": 33
    },
    {
     "cell_type": "code",
     "collapsed": false,
     "input": [
      "plt.plot(A.reshape(dim_fourier))"
     ],
     "language": "python",
     "metadata": {},
     "outputs": [
      {
       "metadata": {},
       "output_type": "pyout",
       "prompt_number": 34,
       "text": [
        "[<matplotlib.lines.Line2D at 0x111fb2510>]"
       ]
      },
      {
       "metadata": {},
       "output_type": "display_data",
       "png": "[encoded data removed]",
       "text": [
        "<matplotlib.figure.Figure at 0x111e43790>"
       ]
      }
     ],
     "prompt_number": 34
    },
    {
     "cell_type": "code",
     "collapsed": false,
     "input": [],
     "language": "python",
     "metadata": {},
     "outputs": []
    }
   ],
   "metadata": {}
  }
 ]
}