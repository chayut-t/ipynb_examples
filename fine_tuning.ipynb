{
 "metadata": {
  "name": "",
  "signature": "sha256:73b63e1a61c0cd7334b08a7df568a00a0b1ab598753886af912cf86b0d4090e9"
 },
 "nbformat": 3,
 "nbformat_minor": 0,
 "worksheets": [
  {
   "cells": [
    {
     "cell_type": "code",
     "collapsed": false,
     "input": [
      "# Import here\n",
      "%matplotlib inline\n",
      "import matplotlib.pylab as pylab\n",
      "import matplotlib.pyplot as plt\n",
      "import numpy as np\n",
      "import theano\n",
      "import theano.tensor as T\n",
      "\n",
      "pylab.rcParams['figure.figsize'] = (9.0, 6.0)"
     ],
     "language": "python",
     "metadata": {},
     "outputs": [],
     "prompt_number": 1
    },
    {
     "cell_type": "code",
     "collapsed": false,
     "input": [
      "# architecture params\n",
      "dim_unit = 64\n",
      "n_steps = 100\n",
      "n_batch = 1024\n",
      "n_iter = 1000000\n",
      "disp_every = 10\n",
      "acce_every = 250\n",
      "save_every = 1000\n",
      "sigma = np.float32(1. / np.sqrt(dim_unit))\n",
      "\n",
      "# learning rate params\n",
      "eta_A0 = np.float32(0.001)\n",
      "eta_V0 = np.float32(0.001)\n",
      "eta_W0 = np.float32(eta_V0 / n_steps)\n",
      "eta_S0 = np.float32(eta_W0 / n_steps)\n",
      "eta_c0 = np.float32(eta_V0 / dim_unit)\n",
      "eta_b0 = np.float32(eta_W0 / dim_unit)\n",
      "eta_ratio = np.float32(100)\n",
      "mu_max = np.float(0.999)\n",
      "mu_ending = np.float(0.9)\n",
      "\n",
      "# save file path\n",
      "tmp_save = '/Users/chayut/Dropbox/data/grid_cells/opt_coding_1d_fine_tuning_tmp_save.npz'\n",
      "fin_save = '/Users/chayut/Dropbox/data/grid_cells/opt_coding_1d_fine_tuning_fin_save.npz'\n",
      "\n",
      "# initialization\n",
      "A = np.load('/Users/chayut/Dropbox/data/grid_cells/cpc_decoding_vector.npy')\n",
      "with np.load('/Users/chayut/Dropbox/data/grid_cells/opt_coding_1d_fin_save.npz') as result:\n",
      "    S = result['S']\n",
      "    W = result['W']\n",
      "    V = result['V']\n",
      "    b = result['b']\n",
      "    c = result['c']\n",
      "\n",
      "vA = np.zeros_like(A)\n",
      "vS = np.zeros_like(S)\n",
      "vV = np.zeros_like(V)\n",
      "vW = np.zeros_like(W)\n",
      "vb = np.zeros_like(b)\n",
      "vc = np.zeros_like(c)\n",
      "\n",
      "eta_A = eta_A0\n",
      "eta_V = eta_V0\n",
      "eta_W = eta_W0\n",
      "eta_S = eta_S0\n",
      "eta_c = eta_c0\n",
      "eta_b = eta_b0\n",
      "mu = np.float(0.5)"
     ],
     "language": "python",
     "metadata": {},
     "outputs": [],
     "prompt_number": 26
    },
    {
     "cell_type": "code",
     "collapsed": false,
     "input": [
      "class VariableHolder(object):\n",
      "    pass\n",
      "    \n",
      "def rectify(x):\n",
      "    return T.maximum(x, 0)\n",
      "\n",
      "def one_step(z, S, b_eff):\n",
      "    return rectify(T.dot(S, z) + b_eff)\n",
      "\n",
      "sparse_basis = np.arange(dim_unit, dtype=np.float32).reshape((dim_unit, 1))\n",
      "\n",
      "t = VariableHolder()\n",
      "t.u = T.frow(name='u')\n",
      "t.nu = T.fmatrix(name='nu')\n",
      "t.A, t.S, t.W, t.V = T.fmatrices('A', 'S', 'W', 'V')\n",
      "t.b, t.c = T.cols('b', 'c')\n",
      "\n",
      "t.u_dist = t.u * np.float32(dim_unit - 1) - sparse_basis\n",
      "t.x0 = T.exp(-(t.u_dist ** 2 / 2))\n",
      "t.x = t.x0 / T.sqrt(T.sum(t.x0 ** 2, axis=0, keepdims=True))\n",
      "t.y = rectify(T.dot(t.V, t.x) + t.c)\n",
      "t.b_eff = t.b + T.dot(t.W, t.y + t.nu)\n",
      "t.z_seq, t.updates = theano.scan(fn=one_step,\n",
      "                                 outputs_info=T.zeros_like(t.b_eff),\n",
      "                                 non_sequences=[t.S, t.b_eff],\n",
      "                                 n_steps=n_steps)\n",
      "t.x_hat = t.z_seq[-1]\n",
      "t.u_hat = T.nnet.sigmoid(T.dot(t.A, t.x_hat))\n",
      "t.cost = T.mean((t.u_hat - t.u) ** 2)\n",
      "\n",
      "t.dA = T.grad(t.cost, t.A)\n",
      "t.dS = T.grad(t.cost, t.S)\n",
      "t.dW = T.grad(t.cost, t.W)\n",
      "t.dV = T.grad(t.cost, t.V)\n",
      "t.db = T.grad(t.cost, t.b)\n",
      "t.dc = T.grad(t.cost, t.c)\n",
      "\n",
      "rnn_compute = theano.function(inputs=[t.u, t.nu, t.A, t.S, t.W, t.V, t.b, t.c],\n",
      "                              outputs=[t.cost, t.x, t.y, t.x_hat, t.u_hat,\n",
      "                                       t.dA, t.dS, t.dW, t.dV, t.db, t.dc],\n",
      "                              updates=t.updates)"
     ],
     "language": "python",
     "metadata": {},
     "outputs": [],
     "prompt_number": 27
    },
    {
     "cell_type": "code",
     "collapsed": false,
     "input": [
      "for i in range(n_iter):\n",
      "    i1 = i + 1\n",
      "    if i1 % acce_every == 0:\n",
      "        eta_factor = 1.0 / (1.0 + (eta_ratio * i1) / n_iter)\n",
      "        eta_A = eta_A0 * eta_factor\n",
      "        eta_S = eta_S0 * eta_factor\n",
      "        eta_W = eta_W0 * eta_factor\n",
      "        eta_V = eta_V0 * eta_factor\n",
      "        eta_b = eta_b0 * eta_factor\n",
      "        eta_c = eta_c0 * eta_factor\n",
      "        if i1 < 0.9 * n_iter:\n",
      "            mu_unbounded = 1 - 0.5 / (1 + (i1 / acce_every))\n",
      "            mu = np.minimum(mu_max, mu_unbounded)\n",
      "        else:\n",
      "            mu = mu_ending\n",
      "    \n",
      "    # decay momentums\n",
      "    vA *= mu\n",
      "    vS *= mu\n",
      "    vW *= mu\n",
      "    vV *= mu\n",
      "    vb *= mu\n",
      "    vc *= mu\n",
      "    # update weights with momentums\n",
      "    A += vA\n",
      "    S += vS\n",
      "    W += vW\n",
      "    V += vV\n",
      "    b += vb\n",
      "    c += vc\n",
      "    V /= np.sqrt(np.sum(V ** 2, axis=1, keepdims=True))\n",
      "\n",
      "    u = np.random.uniform(size=(1, n_batch)).astype(np.float32)\n",
      "    nu = sigma * np.random.randn(dim_unit, n_batch).astype(np.float32)\n",
      "    cost, x, y, x_hat, u_hat, dA, dS, dW, dV, db, dc = rnn_compute(u, nu, A, S, W, V, b, c)\n",
      "    if i1 % disp_every == 0:\n",
      "        print i1, ':', np.sqrt(cost)\n",
      "    \n",
      "    # update momentums with new grads\n",
      "    vA -= eta_A * dA\n",
      "    vS -= eta_S * dS\n",
      "    vW -= eta_W * dW\n",
      "    vV -= eta_V * dV\n",
      "    vb -= eta_b * db\n",
      "    vc -= eta_c * dc\n",
      "    # update weights with new grads\n",
      "    A -= eta_A * dA\n",
      "    S -= eta_S * dS\n",
      "    W -= eta_W * dW\n",
      "    V -= eta_V * dV\n",
      "    b -= eta_b * db\n",
      "    c -= eta_c * dc\n",
      "    V /= np.sqrt(np.sum(V ** 2, axis=1, keepdims=True))\n",
      "    \n",
      "    if i1 % save_every == 0:\n",
      "        np.savez(tmp_save,\n",
      "                 cost=cost, u=u, u_hat=u_hat, x=x, x_hat=x_hat, y=y,\n",
      "                 A=A, S=S, W=W, V=V, b=b, c=c)"
     ],
     "language": "python",
     "metadata": {},
     "outputs": [
      {
       "output_type": "stream",
       "stream": "stdout",
       "text": [
        "10 : 0.00986188\n",
        "20"
       ]
      },
      {
       "output_type": "stream",
       "stream": "stdout",
       "text": [
        " : 0.010486\n",
        "30"
       ]
      },
      {
       "output_type": "stream",
       "stream": "stdout",
       "text": [
        " : 0.011162\n",
        "40"
       ]
      },
      {
       "output_type": "stream",
       "stream": "stdout",
       "text": [
        " : 0.0096735\n",
        "50"
       ]
      },
      {
       "output_type": "stream",
       "stream": "stdout",
       "text": [
        " : 0.0103571\n",
        "60"
       ]
      },
      {
       "output_type": "stream",
       "stream": "stdout",
       "text": [
        " : 0.0105638\n",
        "70"
       ]
      },
      {
       "output_type": "stream",
       "stream": "stdout",
       "text": [
        " : 0.00994699\n",
        "80"
       ]
      },
      {
       "output_type": "stream",
       "stream": "stdout",
       "text": [
        " : 0.0099207\n",
        "90"
       ]
      },
      {
       "output_type": "stream",
       "stream": "stdout",
       "text": [
        " : 0.0100439\n",
        "100"
       ]
      },
      {
       "output_type": "stream",
       "stream": "stdout",
       "text": [
        " : 0.0108662\n"
       ]
      },
      {
       "ename": "KeyboardInterrupt",
       "evalue": "",
       "output_type": "pyerr",
       "traceback": [
        "\u001b[0;31m---------------------------------------------------------------------------\u001b[0m\n\u001b[0;31mKeyboardInterrupt\u001b[0m                         Traceback (most recent call last)",
        "\u001b[0;32m<ipython-input-28-a6eb478a3d61>\u001b[0m in \u001b[0;36m<module>\u001b[0;34m()\u001b[0m\n\u001b[1;32m     33\u001b[0m     \u001b[0mu\u001b[0m \u001b[0;34m=\u001b[0m \u001b[0mnp\u001b[0m\u001b[0;34m.\u001b[0m\u001b[0mrandom\u001b[0m\u001b[0;34m.\u001b[0m\u001b[0muniform\u001b[0m\u001b[0;34m(\u001b[0m\u001b[0msize\u001b[0m\u001b[0;34m=\u001b[0m\u001b[0;34m(\u001b[0m\u001b[0;36m1\u001b[0m\u001b[0;34m,\u001b[0m \u001b[0mn_batch\u001b[0m\u001b[0;34m)\u001b[0m\u001b[0;34m)\u001b[0m\u001b[0;34m.\u001b[0m\u001b[0mastype\u001b[0m\u001b[0;34m(\u001b[0m\u001b[0mnp\u001b[0m\u001b[0;34m.\u001b[0m\u001b[0mfloat32\u001b[0m\u001b[0;34m)\u001b[0m\u001b[0;34m\u001b[0m\u001b[0m\n\u001b[1;32m     34\u001b[0m     \u001b[0mnu\u001b[0m \u001b[0;34m=\u001b[0m \u001b[0msigma\u001b[0m \u001b[0;34m*\u001b[0m \u001b[0mnp\u001b[0m\u001b[0;34m.\u001b[0m\u001b[0mrandom\u001b[0m\u001b[0;34m.\u001b[0m\u001b[0mrandn\u001b[0m\u001b[0;34m(\u001b[0m\u001b[0mdim_unit\u001b[0m\u001b[0;34m,\u001b[0m \u001b[0mn_batch\u001b[0m\u001b[0;34m)\u001b[0m\u001b[0;34m.\u001b[0m\u001b[0mastype\u001b[0m\u001b[0;34m(\u001b[0m\u001b[0mnp\u001b[0m\u001b[0;34m.\u001b[0m\u001b[0mfloat32\u001b[0m\u001b[0;34m)\u001b[0m\u001b[0;34m\u001b[0m\u001b[0m\n\u001b[0;32m---> 35\u001b[0;31m     \u001b[0mcost\u001b[0m\u001b[0;34m,\u001b[0m \u001b[0mx\u001b[0m\u001b[0;34m,\u001b[0m \u001b[0my\u001b[0m\u001b[0;34m,\u001b[0m \u001b[0mx_hat\u001b[0m\u001b[0;34m,\u001b[0m \u001b[0mu_hat\u001b[0m\u001b[0;34m,\u001b[0m \u001b[0mdA\u001b[0m\u001b[0;34m,\u001b[0m \u001b[0mdS\u001b[0m\u001b[0;34m,\u001b[0m \u001b[0mdW\u001b[0m\u001b[0;34m,\u001b[0m \u001b[0mdV\u001b[0m\u001b[0;34m,\u001b[0m \u001b[0mdb\u001b[0m\u001b[0;34m,\u001b[0m \u001b[0mdc\u001b[0m \u001b[0;34m=\u001b[0m \u001b[0mrnn_compute\u001b[0m\u001b[0;34m(\u001b[0m\u001b[0mu\u001b[0m\u001b[0;34m,\u001b[0m \u001b[0mnu\u001b[0m\u001b[0;34m,\u001b[0m \u001b[0mA\u001b[0m\u001b[0;34m,\u001b[0m \u001b[0mS\u001b[0m\u001b[0;34m,\u001b[0m \u001b[0mW\u001b[0m\u001b[0;34m,\u001b[0m \u001b[0mV\u001b[0m\u001b[0;34m,\u001b[0m \u001b[0mb\u001b[0m\u001b[0;34m,\u001b[0m \u001b[0mc\u001b[0m\u001b[0;34m)\u001b[0m\u001b[0;34m\u001b[0m\u001b[0m\n\u001b[0m\u001b[1;32m     36\u001b[0m     \u001b[0;32mif\u001b[0m \u001b[0mi1\u001b[0m \u001b[0;34m%\u001b[0m \u001b[0mdisp_every\u001b[0m \u001b[0;34m==\u001b[0m \u001b[0;36m0\u001b[0m\u001b[0;34m:\u001b[0m\u001b[0;34m\u001b[0m\u001b[0m\n\u001b[1;32m     37\u001b[0m         \u001b[0;32mprint\u001b[0m \u001b[0mi1\u001b[0m\u001b[0;34m,\u001b[0m \u001b[0;34m':'\u001b[0m\u001b[0;34m,\u001b[0m \u001b[0mnp\u001b[0m\u001b[0;34m.\u001b[0m\u001b[0msqrt\u001b[0m\u001b[0;34m(\u001b[0m\u001b[0mcost\u001b[0m\u001b[0;34m)\u001b[0m\u001b[0;34m\u001b[0m\u001b[0m\n",
        "\u001b[0;32m/Users/chayut/anaconda/lib/python2.7/site-packages/theano/compile/function_module.pyc\u001b[0m in \u001b[0;36m__call__\u001b[0;34m(self, *args, **kwargs)\u001b[0m\n\u001b[1;32m    593\u001b[0m         \u001b[0mt0_fn\u001b[0m \u001b[0;34m=\u001b[0m \u001b[0mtime\u001b[0m\u001b[0;34m.\u001b[0m\u001b[0mtime\u001b[0m\u001b[0;34m(\u001b[0m\u001b[0;34m)\u001b[0m\u001b[0;34m\u001b[0m\u001b[0m\n\u001b[1;32m    594\u001b[0m         \u001b[0;32mtry\u001b[0m\u001b[0;34m:\u001b[0m\u001b[0;34m\u001b[0m\u001b[0m\n\u001b[0;32m--> 595\u001b[0;31m             \u001b[0moutputs\u001b[0m \u001b[0;34m=\u001b[0m \u001b[0mself\u001b[0m\u001b[0;34m.\u001b[0m\u001b[0mfn\u001b[0m\u001b[0;34m(\u001b[0m\u001b[0;34m)\u001b[0m\u001b[0;34m\u001b[0m\u001b[0m\n\u001b[0m\u001b[1;32m    596\u001b[0m         \u001b[0;32mexcept\u001b[0m \u001b[0mException\u001b[0m\u001b[0;34m:\u001b[0m\u001b[0;34m\u001b[0m\u001b[0m\n\u001b[1;32m    597\u001b[0m             \u001b[0;32mif\u001b[0m \u001b[0mhasattr\u001b[0m\u001b[0;34m(\u001b[0m\u001b[0mself\u001b[0m\u001b[0;34m.\u001b[0m\u001b[0mfn\u001b[0m\u001b[0;34m,\u001b[0m \u001b[0;34m'position_of_error'\u001b[0m\u001b[0;34m)\u001b[0m\u001b[0;34m:\u001b[0m\u001b[0;34m\u001b[0m\u001b[0m\n",
        "\u001b[0;32m/Users/chayut/anaconda/lib/python2.7/site-packages/theano/scan_module/scan_op.pyc\u001b[0m in \u001b[0;36mrval\u001b[0;34m(p, i, o, n, allow_gc)\u001b[0m\n\u001b[1;32m    635\u001b[0m         def rval(p=p, i=node_input_storage, o=node_output_storage, n=node,\n\u001b[1;32m    636\u001b[0m                  allow_gc=allow_gc):\n\u001b[0;32m--> 637\u001b[0;31m             \u001b[0mr\u001b[0m \u001b[0;34m=\u001b[0m \u001b[0mp\u001b[0m\u001b[0;34m(\u001b[0m\u001b[0mn\u001b[0m\u001b[0;34m,\u001b[0m \u001b[0;34m[\u001b[0m\u001b[0mx\u001b[0m\u001b[0;34m[\u001b[0m\u001b[0;36m0\u001b[0m\u001b[0;34m]\u001b[0m \u001b[0;32mfor\u001b[0m \u001b[0mx\u001b[0m \u001b[0;32min\u001b[0m \u001b[0mi\u001b[0m\u001b[0;34m]\u001b[0m\u001b[0;34m,\u001b[0m \u001b[0mo\u001b[0m\u001b[0;34m)\u001b[0m\u001b[0;34m\u001b[0m\u001b[0m\n\u001b[0m\u001b[1;32m    638\u001b[0m             \u001b[0;32mfor\u001b[0m \u001b[0mo\u001b[0m \u001b[0;32min\u001b[0m \u001b[0mnode\u001b[0m\u001b[0;34m.\u001b[0m\u001b[0moutputs\u001b[0m\u001b[0;34m:\u001b[0m\u001b[0;34m\u001b[0m\u001b[0m\n\u001b[1;32m    639\u001b[0m                 \u001b[0mcompute_map\u001b[0m\u001b[0;34m[\u001b[0m\u001b[0mo\u001b[0m\u001b[0;34m]\u001b[0m\u001b[0;34m[\u001b[0m\u001b[0;36m0\u001b[0m\u001b[0;34m]\u001b[0m \u001b[0;34m=\u001b[0m \u001b[0mTrue\u001b[0m\u001b[0;34m\u001b[0m\u001b[0m\n",
        "\u001b[0;32m/Users/chayut/anaconda/lib/python2.7/site-packages/theano/scan_module/scan_op.pyc\u001b[0m in \u001b[0;36m<lambda>\u001b[0;34m(node, args, outs)\u001b[0m\n\u001b[1;32m    624\u001b[0m                         \u001b[0margs\u001b[0m\u001b[0;34m,\u001b[0m\u001b[0;34m\u001b[0m\u001b[0m\n\u001b[1;32m    625\u001b[0m                         \u001b[0mouts\u001b[0m\u001b[0;34m,\u001b[0m\u001b[0;34m\u001b[0m\u001b[0m\n\u001b[0;32m--> 626\u001b[0;31m                         self, node)\n\u001b[0m\u001b[1;32m    627\u001b[0m         \u001b[0;32mexcept\u001b[0m \u001b[0;34m(\u001b[0m\u001b[0mImportError\u001b[0m\u001b[0;34m,\u001b[0m \u001b[0mtheano\u001b[0m\u001b[0;34m.\u001b[0m\u001b[0mgof\u001b[0m\u001b[0;34m.\u001b[0m\u001b[0mcmodule\u001b[0m\u001b[0;34m.\u001b[0m\u001b[0mMissingGXX\u001b[0m\u001b[0;34m)\u001b[0m\u001b[0;34m:\u001b[0m\u001b[0;34m\u001b[0m\u001b[0m\n\u001b[1;32m    628\u001b[0m             \u001b[0mp\u001b[0m \u001b[0;34m=\u001b[0m \u001b[0mself\u001b[0m\u001b[0;34m.\u001b[0m\u001b[0mexecute\u001b[0m\u001b[0;34m\u001b[0m\u001b[0m\n",
        "\u001b[0;32m/Users/chayut/.theano/compiledir_Darwin-14.1.0-x86_64-i386-64bit-i386-2.7.9-64/scan_perform/scan_perform.so\u001b[0m in \u001b[0;36mtheano.scan_module.scan_perform.perform (/Users/chayut/.theano/compiledir_Darwin-14.1.0-x86_64-i386-64bit-i386-2.7.9-64/scan_perform/mod.cpp:4578)\u001b[0;34m()\u001b[0m\n",
        "\u001b[0;32m/Users/chayut/anaconda/lib/python2.7/site-packages/theano/tensor/type.pyc\u001b[0m in \u001b[0;36mvalue_zeros\u001b[0;34m(self, shape)\u001b[0m\n\u001b[1;32m    581\u001b[0m             \u001b[0;32mreturn\u001b[0m \u001b[0;34m(\u001b[0m\u001b[0;34m)\u001b[0m\u001b[0;34m\u001b[0m\u001b[0m\n\u001b[1;32m    582\u001b[0m \u001b[0;34m\u001b[0m\u001b[0m\n\u001b[0;32m--> 583\u001b[0;31m     \u001b[0;32mdef\u001b[0m \u001b[0mvalue_zeros\u001b[0m\u001b[0;34m(\u001b[0m\u001b[0mself\u001b[0m\u001b[0;34m,\u001b[0m \u001b[0mshape\u001b[0m\u001b[0;34m)\u001b[0m\u001b[0;34m:\u001b[0m\u001b[0;34m\u001b[0m\u001b[0m\n\u001b[0m\u001b[1;32m    584\u001b[0m         \"\"\"\n\u001b[1;32m    585\u001b[0m         \u001b[0mCreate\u001b[0m \u001b[0man\u001b[0m \u001b[0mnumpy\u001b[0m \u001b[0mndarray\u001b[0m \u001b[0mfull\u001b[0m \u001b[0mof\u001b[0m \u001b[0;36m0\u001b[0m \u001b[0mvalues\u001b[0m\u001b[0;34m.\u001b[0m\u001b[0;34m\u001b[0m\u001b[0m\n",
        "\u001b[0;31mKeyboardInterrupt\u001b[0m: "
       ]
      }
     ],
     "prompt_number": 28
    },
    {
     "cell_type": "code",
     "collapsed": false,
     "input": [
      "plt.imshow(V, interpolation='None')"
     ],
     "language": "python",
     "metadata": {},
     "outputs": [
      {
       "metadata": {},
       "output_type": "pyout",
       "prompt_number": 17,
       "text": [
        "<matplotlib.image.AxesImage at 0x11d676f90>"
       ]
      },
      {
       "metadata": {},
       "output_type": "display_data",
       "png": "[encoded data removed]",
       "text": [
        "<matplotlib.figure.Figure at 0x11d582310>"
       ]
      }
     ],
     "prompt_number": 17
    },
    {
     "cell_type": "code",
     "collapsed": false,
     "input": [],
     "language": "python",
     "metadata": {},
     "outputs": []
    }
   ],
   "metadata": {}
  }
 ]
}