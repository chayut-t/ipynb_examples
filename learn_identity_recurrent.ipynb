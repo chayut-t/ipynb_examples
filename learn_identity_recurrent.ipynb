{
 "metadata": {
  "name": "",
  "signature": "sha256:4c6b638b5b130c8f89514b5d4abac31fa7c83d8e84401132ac8667754b851744"
 },
 "nbformat": 3,
 "nbformat_minor": 0,
 "worksheets": [
  {
   "cells": [
    {
     "cell_type": "code",
     "collapsed": false,
     "input": [
      "# Import here\n",
      "%matplotlib inline\n",
      "import matplotlib.pylab as pylab\n",
      "import matplotlib.pyplot as plt\n",
      "import numpy as np\n",
      "import theano\n",
      "import theano.tensor as T\n",
      "\n",
      "pylab.rcParams['figure.figsize'] = (9.0, 6.0)"
     ],
     "language": "python",
     "metadata": {},
     "outputs": [],
     "prompt_number": 1
    },
    {
     "cell_type": "code",
     "collapsed": false,
     "input": [
      "n_steps = 10\n",
      "x = T.fmatrix(name='x')\n",
      "A = T.fmatrix(name='A')\n",
      "def one_step(x, A):\n",
      "    return T.dot(A, x)\n",
      "y_seq, updates = theano.scan(fn=one_step,\n",
      "                             outputs_info=x,\n",
      "                             non_sequences=[A],\n",
      "                             n_steps=n_steps)\n",
      "y=y_seq[-1]\n",
      "cost = T.mean(T.sum((x - y) ** 2, axis=0, keepdims=True))\n",
      "dA = T.grad(cost, A)\n",
      "f = theano.function(inputs=[x, A],\n",
      "                    outputs=[cost, dA, y],\n",
      "                    updates=updates)"
     ],
     "language": "python",
     "metadata": {},
     "outputs": [
      {
       "output_type": "stream",
       "stream": "stderr",
       "text": [
        "/Users/chayut/anaconda/lib/python2.7/site-packages/theano/scan_module/scan_perform_ext.py:133: RuntimeWarning: numpy.ndarray size changed, may indicate binary incompatibility\n",
        "  from scan_perform.scan_perform import *\n"
       ]
      }
     ],
     "prompt_number": 2
    },
    {
     "cell_type": "code",
     "collapsed": false,
     "input": [
      "dim_x = 5\n",
      "dim_batch = 256\n",
      "val_A = np.random.randn(dim_x, dim_x).astype(np.float32) / np.sqrt(dim_x)"
     ],
     "language": "python",
     "metadata": {},
     "outputs": [],
     "prompt_number": 3
    },
    {
     "cell_type": "code",
     "collapsed": false,
     "input": [
      "eta = 0.5 / dim_batch\n",
      "mu = 0.5\n",
      "val_dA = np.zeros_like(val_A)\n",
      "val_vA = np.zeros_like(val_A)\n",
      "\n",
      "for t in range(10000):\n",
      "    val_vA *= mu\n",
      "    val_A += val_vA\n",
      "    val_x = np.random.randn(dim_x, dim_batch).astype(np.float32)\n",
      "    val_cost, val_dA, val_y = f(val_x, val_A)\n",
      "    if (t + 1) % 1000 == 0:\n",
      "        print (t + 1), val_cost\n",
      "    val_A -= eta * val_dA\n",
      "    val_vA -= eta * val_dA"
     ],
     "language": "python",
     "metadata": {},
     "outputs": [
      {
       "output_type": "stream",
       "stream": "stdout",
       "text": [
        "1000 1.99653935432\n",
        "2000"
       ]
      },
      {
       "output_type": "stream",
       "stream": "stdout",
       "text": [
        " 1.01200270653\n",
        "3000"
       ]
      },
      {
       "output_type": "stream",
       "stream": "stdout",
       "text": [
        " 0.974596500397\n",
        "4000"
       ]
      },
      {
       "output_type": "stream",
       "stream": "stdout",
       "text": [
        " 1.0012421608\n",
        "5000"
       ]
      },
      {
       "output_type": "stream",
       "stream": "stdout",
       "text": [
        " 1.09729588032\n",
        "6000"
       ]
      },
      {
       "output_type": "stream",
       "stream": "stdout",
       "text": [
        " 1.07824110985\n",
        "7000"
       ]
      },
      {
       "output_type": "stream",
       "stream": "stdout",
       "text": [
        " 0.96113473177\n",
        "8000"
       ]
      },
      {
       "output_type": "stream",
       "stream": "stdout",
       "text": [
        " 0.999555230141\n",
        "9000"
       ]
      },
      {
       "output_type": "stream",
       "stream": "stdout",
       "text": [
        " 1.17887532711\n",
        "10000"
       ]
      },
      {
       "output_type": "stream",
       "stream": "stdout",
       "text": [
        " 0.950882732868\n"
       ]
      }
     ],
     "prompt_number": 4
    },
    {
     "cell_type": "code",
     "collapsed": false,
     "input": [
      "val_A_10 = np.linalg.matrix_power(val_A, n_steps)\n",
      "print val_A_10\n",
      "plt.imshow(val_A_10, interpolation='None')"
     ],
     "language": "python",
     "metadata": {},
     "outputs": [
      {
       "output_type": "stream",
       "stream": "stdout",
       "text": [
        "[[ 0.95057124  0.0940406   0.11677547 -0.11102918  0.10848867]\n",
        " [ 0.09496891  0.81898624 -0.22467604  0.21356429 -0.20869146]\n",
        " [ 0.11795858 -0.2247728   0.7209534   0.26528206 -0.25920445]\n",
        " [-0.11179806  0.21296276  0.26444793  0.74857152  0.24562483]\n",
        " [ 0.10887601 -0.20742393 -0.25748801  0.24477866  0.76072252]]\n"
       ]
      },
      {
       "metadata": {},
       "output_type": "pyout",
       "prompt_number": 5,
       "text": [
        "<matplotlib.image.AxesImage at 0x1111d8dd0>"
       ]
      },
      {
       "metadata": {},
       "output_type": "display_data",
       "png": "[encoded data removed]",
       "text": [
        "<matplotlib.figure.Figure at 0x10449c1d0>"
       ]
      }
     ],
     "prompt_number": 5
    },
    {
     "cell_type": "code",
     "collapsed": false,
     "input": [],
     "language": "python",
     "metadata": {},
     "outputs": [],
     "prompt_number": 5
    }
   ],
   "metadata": {}
  }
 ]
}