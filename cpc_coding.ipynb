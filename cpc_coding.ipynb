{
 "metadata": {
  "name": "",
  "signature": "sha256:883a4fa97d05793266303f44277279d81afa515cf9a62da6751b6e7e009976d7"
 },
 "nbformat": 3,
 "nbformat_minor": 0,
 "worksheets": [
  {
   "cells": [
    {
     "cell_type": "code",
     "collapsed": false,
     "input": [
      "# Import here\n",
      "%matplotlib inline\n",
      "import matplotlib.pylab as pylab\n",
      "import matplotlib.pyplot as plt\n",
      "import numpy as np\n",
      "import theano\n",
      "import theano.tensor as T\n",
      "\n",
      "pylab.rcParams['figure.figsize'] = (9.0, 6.0)"
     ],
     "language": "python",
     "metadata": {},
     "outputs": [],
     "prompt_number": 1
    },
    {
     "cell_type": "code",
     "collapsed": false,
     "input": [
      "def cpc(x, N):\n",
      "    n = np.arange(N, dtype=np.float32).reshape((N, 1))\n",
      "    z_matrix = np.float32(x * (N - 1)) - n\n",
      "    r = np.exp(-z_matrix ** 2 / 2)\n",
      "    return r"
     ],
     "language": "python",
     "metadata": {},
     "outputs": [],
     "prompt_number": 16
    },
    {
     "cell_type": "code",
     "collapsed": false,
     "input": [
      "t_x, t_y, t_nu = T.fmatrices('x', 'y', 'nu')\n",
      "t_A = T.fmatrix(name='A')\n",
      "t_a = T.fscalar(name='a')\n",
      "t_xhat = T.nnet.sigmoid(T.dot(t_A, t_y + t_nu) + t_a)\n",
      "cost = T.mean((t_xhat - t_x) ** 2)\n",
      "t_dA = T.grad(cost, t_A)\n",
      "t_da = T.grad(cost, t_a)\n",
      "f = theano.function(inputs=[t_x, t_y, t_nu, t_A, t_a],\n",
      "                    outputs=[cost, t_xhat, t_dA, t_da])"
     ],
     "language": "python",
     "metadata": {},
     "outputs": [],
     "prompt_number": 97
    },
    {
     "cell_type": "code",
     "collapsed": false,
     "input": [
      "N = 256\n",
      "A = np.ones((1, N), dtype=np.float32) / N\n",
      "a = np.float32(0.)"
     ],
     "language": "python",
     "metadata": {},
     "outputs": [],
     "prompt_number": 130
    },
    {
     "cell_type": "code",
     "collapsed": false,
     "input": [
      "sigma = 0.000\n",
      "dim_batch = 1024\n",
      "eta = np.float32(0.01)\n",
      "for t in range(10000):\n",
      "    x = np.random.uniform(size=(1, dim_batch)).astype(np.float32)\n",
      "    y = cpc(x, N)\n",
      "    nu = sigma * np.random.randn(N, dim_batch).astype(np.float32)\n",
      "    cost, xhat, dA, da = f(x, y, nu, A, a)\n",
      "    if (t + 1) % 1000 == 0:\n",
      "        print (t + 1), ':', cost\n",
      "    A -= eta * dA\n",
      "    a -= eta * da"
     ],
     "language": "python",
     "metadata": {},
     "outputs": [
      {
       "output_type": "stream",
       "stream": "stdout",
       "text": [
        "1000 : 0.000719590461813\n",
        "2000"
       ]
      },
      {
       "output_type": "stream",
       "stream": "stdout",
       "text": [
        " : 0.000727074919268\n",
        "3000"
       ]
      },
      {
       "output_type": "stream",
       "stream": "stdout",
       "text": [
        " : 0.000723796372768\n",
        "4000"
       ]
      },
      {
       "output_type": "stream",
       "stream": "stdout",
       "text": [
        " : 0.00072495121276\n",
        "5000"
       ]
      },
      {
       "output_type": "stream",
       "stream": "stdout",
       "text": [
        " : 0.000761441420764\n",
        "6000"
       ]
      },
      {
       "output_type": "stream",
       "stream": "stdout",
       "text": [
        " : 0.000779584923293\n",
        "7000"
       ]
      },
      {
       "output_type": "stream",
       "stream": "stdout",
       "text": [
        " : 0.000632292299997\n",
        "8000"
       ]
      },
      {
       "output_type": "stream",
       "stream": "stdout",
       "text": [
        " : 0.000726567930542\n",
        "9000"
       ]
      },
      {
       "output_type": "stream",
       "stream": "stdout",
       "text": [
        " : 0.00068398861913\n",
        "10000"
       ]
      },
      {
       "output_type": "stream",
       "stream": "stdout",
       "text": [
        " : 0.000684534606989\n"
       ]
      }
     ],
     "prompt_number": 139
    },
    {
     "cell_type": "code",
     "collapsed": false,
     "input": [
      "plt.plot(A.T)"
     ],
     "language": "python",
     "metadata": {},
     "outputs": [
      {
       "metadata": {},
       "output_type": "pyout",
       "prompt_number": 140,
       "text": [
        "[<matplotlib.lines.Line2D at 0x119e9b5d0>]"
       ]
      },
      {
       "metadata": {},
       "output_type": "display_data",
       "png": "[encoded data removed]",
       "text": [
        "<matplotlib.figure.Figure at 0x119b01110>"
       ]
      }
     ],
     "prompt_number": 140
    },
    {
     "cell_type": "code",
     "collapsed": false,
     "input": [],
     "language": "python",
     "metadata": {},
     "outputs": []
    }
   ],
   "metadata": {}
  }
 ]
}