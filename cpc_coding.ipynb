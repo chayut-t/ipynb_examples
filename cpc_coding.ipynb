{
 "metadata": {
  "name": "",
  "signature": "sha256:bfb9d7aa32044e118a7d31f31a90789036c83658d8062716aed4a9fada945fc0"
 },
 "nbformat": 3,
 "nbformat_minor": 0,
 "worksheets": [
  {
   "cells": [
    {
     "cell_type": "code",
     "collapsed": false,
     "input": [
      "# Import here\n",
      "%matplotlib inline\n",
      "import matplotlib.pylab as pylab\n",
      "import matplotlib.pyplot as plt\n",
      "import numpy as np\n",
      "import theano\n",
      "import theano.tensor as T\n",
      "\n",
      "pylab.rcParams['figure.figsize'] = (9.0, 6.0)"
     ],
     "language": "python",
     "metadata": {},
     "outputs": [
      {
       "output_type": "stream",
       "stream": "stderr",
       "text": [
        "Using gpu device 0: Quadro K6000\n"
       ]
      }
     ],
     "prompt_number": 1
    },
    {
     "cell_type": "code",
     "collapsed": false,
     "input": [
      "def cpc(x, N):\n",
      "    n = np.arange(N, dtype=np.float32).reshape((N, 1))\n",
      "    z_matrix = np.float32(x * (N - 1)) - n\n",
      "    r = np.exp(-z_matrix ** 2 / 2)\n",
      "    r /= np.sqrt(np.sum(r ** 2, axis=0, keepdims=True))\n",
      "    return r"
     ],
     "language": "python",
     "metadata": {},
     "outputs": [],
     "prompt_number": 2
    },
    {
     "cell_type": "code",
     "collapsed": false,
     "input": [
      "t_x, t_y, t_nu = T.fmatrices('x', 'y', 'nu')\n",
      "t_A = T.fmatrix(name='A')\n",
      "t_xhat = T.dot(t_A, t_y + t_nu) + 0.5\n",
      "cost = T.mean((t_xhat - t_x) ** 2)\n",
      "t_dA = T.grad(cost, t_A)\n",
      "f = theano.function(inputs=[t_x, t_y, t_nu, t_A],\n",
      "                    outputs=[cost, t_xhat, t_dA])"
     ],
     "language": "python",
     "metadata": {},
     "outputs": [],
     "prompt_number": 14
    },
    {
     "cell_type": "code",
     "collapsed": false,
     "input": [
      "N = 64\n",
      "A = (2 * np.arange(N, dtype=np.float32).reshape((1, N)) - (N - 1)) / N"
     ],
     "language": "python",
     "metadata": {},
     "outputs": [],
     "prompt_number": 17
    },
    {
     "cell_type": "code",
     "collapsed": false,
     "input": [
      "sigma = 0.000\n",
      "dim_batch = 2 ** 14\n",
      "eta = np.float32(0.1)\n",
      "for t in range(1000):\n",
      "    x = np.random.uniform(size=(1, dim_batch)).astype(np.float32)\n",
      "    y = cpc(x, N)\n",
      "    nu = sigma * np.random.randn(N, dim_batch).astype(np.float32)\n",
      "    cost, xhat, dA = f(x, y, nu, A)\n",
      "    if (t + 1) % 100 == 0:\n",
      "        print (t + 1), ':', np.sqrt(cost)\n",
      "    A -= eta * dA"
     ],
     "language": "python",
     "metadata": {},
     "outputs": [
      {
       "output_type": "stream",
       "stream": "stdout",
       "text": [
        "100 : 0.0010572\n",
        "200"
       ]
      },
      {
       "output_type": "stream",
       "stream": "stdout",
       "text": [
        " : 0.00104923\n",
        "300"
       ]
      },
      {
       "output_type": "stream",
       "stream": "stdout",
       "text": [
        " : 0.00102008\n",
        "400"
       ]
      },
      {
       "output_type": "stream",
       "stream": "stdout",
       "text": [
        " : 0.00104077\n",
        "500"
       ]
      },
      {
       "output_type": "stream",
       "stream": "stdout",
       "text": [
        " : 0.00101465\n",
        "600"
       ]
      },
      {
       "output_type": "stream",
       "stream": "stdout",
       "text": [
        " : 0.00102516\n",
        "700"
       ]
      },
      {
       "output_type": "stream",
       "stream": "stdout",
       "text": [
        " : 0.000995324\n",
        "800"
       ]
      },
      {
       "output_type": "stream",
       "stream": "stdout",
       "text": [
        " : 0.00103729\n",
        "900"
       ]
      },
      {
       "output_type": "stream",
       "stream": "stdout",
       "text": [
        " : 0.00101906\n",
        "1000"
       ]
      },
      {
       "output_type": "stream",
       "stream": "stdout",
       "text": [
        " : 0.000968446\n"
       ]
      }
     ],
     "prompt_number": 21
    },
    {
     "cell_type": "code",
     "collapsed": false,
     "input": [
      "plt.plot(A.T)"
     ],
     "language": "python",
     "metadata": {},
     "outputs": [
      {
       "metadata": {},
       "output_type": "pyout",
       "prompt_number": 22,
       "text": [
        "[<matplotlib.lines.Line2D at 0x12107ee10>]"
       ]
      },
      {
       "metadata": {},
       "output_type": "display_data",
       "png": "[encoded data removed]",
       "text": [
        "<matplotlib.figure.Figure at 0x11e4db350>"
       ]
      }
     ],
     "prompt_number": 22
    },
    {
     "cell_type": "code",
     "collapsed": false,
     "input": [
      "np.save('/Users/chayut/Dropbox/data/grid_cells/cpc_decoding_vector_linear.npy', A)"
     ],
     "language": "python",
     "metadata": {},
     "outputs": [],
     "prompt_number": 23
    },
    {
     "cell_type": "code",
     "collapsed": false,
     "input": [
      "np.load('/Users/chayut/Dropbox/data/grid_cells/cpc_decoding_vector_linear.npy')"
     ],
     "language": "python",
     "metadata": {},
     "outputs": [
      {
       "metadata": {},
       "output_type": "pyout",
       "prompt_number": 24,
       "text": [
        "array([[-0.41830656, -0.19770402, -0.25956628, -0.24929924, -0.22035065,\n",
        "        -0.22938499, -0.21490771, -0.20411801, -0.19991897, -0.18943271,\n",
        "        -0.18073294, -0.17321098, -0.16439231, -0.15584508, -0.14754376,\n",
        "        -0.13920587, -0.13057926, -0.12226155, -0.11386252, -0.10530018,\n",
        "        -0.09703528, -0.08846128, -0.08010851, -0.07167848, -0.06320387,\n",
        "        -0.05479869, -0.04640026, -0.03789746, -0.02952373, -0.02109368,\n",
        "        -0.01261051, -0.00424446,  0.00422625,  0.01264855,  0.0210708 ,\n",
        "         0.02951011,  0.03793552,  0.04637125,  0.05479787,  0.06322136,\n",
        "         0.07168344,  0.08004296,  0.08859339,  0.09687582,  0.10542083,\n",
        "         0.11383771,  0.1221714 ,  0.13075542,  0.13901037,  0.14767955,\n",
        "         0.15583062,  0.16427414,  0.17340688,  0.18056643,  0.18947446,\n",
        "         0.19999462,  0.2040641 ,  0.21475542,  0.22977965,  0.21995682,\n",
        "         0.24926494,  0.26027727,  0.19648869,  0.41929153]], dtype=float32)"
       ]
      }
     ],
     "prompt_number": 24
    },
    {
     "cell_type": "code",
     "collapsed": false,
     "input": [],
     "language": "python",
     "metadata": {},
     "outputs": []
    }
   ],
   "metadata": {}
  }
 ]
}