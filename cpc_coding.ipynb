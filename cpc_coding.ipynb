{
 "metadata": {
  "name": "",
  "signature": "sha256:8a8fc0d4fc33ca683f899d4c61b9eabeae053ab3621b5eab0ca9044406bc3386"
 },
 "nbformat": 3,
 "nbformat_minor": 0,
 "worksheets": [
  {
   "cells": [
    {
     "cell_type": "code",
     "collapsed": false,
     "input": [
      "# Import here\n",
      "%matplotlib inline\n",
      "import matplotlib.pylab as pylab\n",
      "import matplotlib.pyplot as plt\n",
      "import numpy as np\n",
      "import theano\n",
      "import theano.tensor as T\n",
      "\n",
      "pylab.rcParams['figure.figsize'] = (9.0, 6.0)"
     ],
     "language": "python",
     "metadata": {},
     "outputs": [],
     "prompt_number": 1
    },
    {
     "cell_type": "code",
     "collapsed": false,
     "input": [
      "def cpc(x, N):\n",
      "    n = np.arange(N, dtype=np.float32).reshape((N, 1))\n",
      "    z_matrix = np.float32(x * (N - 1)) - n\n",
      "    r = np.exp(-z_matrix ** 2 / 2)\n",
      "    r /= np.sqrt(np.sum(r ** 2, axis=0, keepdims=True))\n",
      "    return r"
     ],
     "language": "python",
     "metadata": {},
     "outputs": [],
     "prompt_number": 2
    },
    {
     "cell_type": "code",
     "collapsed": false,
     "input": [
      "t_x, t_y, t_nu = T.fmatrices('x', 'y', 'nu')\n",
      "t_A = T.fmatrix(name='A')\n",
      "t_xhat = T.nnet.sigmoid(T.dot(t_A, t_y + t_nu))\n",
      "cost = T.mean((t_xhat - t_x) ** 2)\n",
      "t_dA = T.grad(cost, t_A)\n",
      "f = theano.function(inputs=[t_x, t_y, t_nu, t_A],\n",
      "                    outputs=[cost, t_xhat, t_dA])"
     ],
     "language": "python",
     "metadata": {},
     "outputs": [],
     "prompt_number": 41
    },
    {
     "cell_type": "code",
     "collapsed": false,
     "input": [
      "N = 64\n",
      "A = (2 * np.arange(N, dtype=np.float32).reshape((1, N)) - (N - 1)) / N"
     ],
     "language": "python",
     "metadata": {},
     "outputs": [],
     "prompt_number": 35
    },
    {
     "cell_type": "code",
     "collapsed": false,
     "input": [
      "sigma = 0.000\n",
      "dim_batch = 2 ** 16\n",
      "eta = np.float32(0.1)\n",
      "for t in range(100):\n",
      "    x = np.random.uniform(size=(1, dim_batch)).astype(np.float32)\n",
      "    y = cpc(x, N)\n",
      "    nu = sigma * np.random.randn(N, dim_batch).astype(np.float32)\n",
      "    cost, xhat, dA = f(x, y, nu, A)\n",
      "    if (t + 1) % 10 == 0:\n",
      "        print (t + 1), ':', np.sqrt(cost)\n",
      "    A -= eta * dA"
     ],
     "language": "python",
     "metadata": {},
     "outputs": [
      {
       "output_type": "stream",
       "stream": "stdout",
       "text": [
        "10 : 0.00400181\n",
        "20"
       ]
      },
      {
       "output_type": "stream",
       "stream": "stdout",
       "text": [
        " : 0.0040237\n",
        "30"
       ]
      },
      {
       "output_type": "stream",
       "stream": "stdout",
       "text": [
        " : 0.00397603\n",
        "40"
       ]
      },
      {
       "output_type": "stream",
       "stream": "stdout",
       "text": [
        " : 0.00404151\n",
        "50"
       ]
      },
      {
       "output_type": "stream",
       "stream": "stdout",
       "text": [
        " : 0.00393489\n",
        "60"
       ]
      },
      {
       "output_type": "stream",
       "stream": "stdout",
       "text": [
        " : 0.0040551\n",
        "70"
       ]
      },
      {
       "output_type": "stream",
       "stream": "stdout",
       "text": [
        " : 0.00403856\n",
        "80"
       ]
      },
      {
       "output_type": "stream",
       "stream": "stdout",
       "text": [
        " : 0.00405788\n",
        "90"
       ]
      },
      {
       "output_type": "stream",
       "stream": "stdout",
       "text": [
        " : 0.00404711\n",
        "100"
       ]
      },
      {
       "output_type": "stream",
       "stream": "stdout",
       "text": [
        " : 0.00402304\n"
       ]
      }
     ],
     "prompt_number": 44
    },
    {
     "cell_type": "code",
     "collapsed": false,
     "input": [
      "plt.plot(A.T)"
     ],
     "language": "python",
     "metadata": {},
     "outputs": [
      {
       "metadata": {},
       "output_type": "pyout",
       "prompt_number": 45,
       "text": [
        "[<matplotlib.lines.Line2D at 0x112687490>]"
       ]
      },
      {
       "metadata": {},
       "output_type": "display_data",
       "png": "[encoded data removed]",
       "text": [
        "<matplotlib.figure.Figure at 0x1123fa0d0>"
       ]
      }
     ],
     "prompt_number": 45
    },
    {
     "cell_type": "code",
     "collapsed": false,
     "input": [
      "np.save('/Users/chayut/Dropbox/data/grid_cells/cpc_decoding_vector.npy', A)"
     ],
     "language": "python",
     "metadata": {},
     "outputs": [],
     "prompt_number": 46
    },
    {
     "cell_type": "code",
     "collapsed": false,
     "input": [
      "np.load('/Users/chayut/Dropbox/data/grid_cells/cpc_decoding_vector.npy')"
     ],
     "language": "python",
     "metadata": {},
     "outputs": [
      {
       "metadata": {},
       "output_type": "pyout",
       "prompt_number": 47,
       "text": [
        "array([[-2.16201878, -2.29968739, -1.86107981, -1.53955615, -1.40314615,\n",
        "        -1.29651237, -1.18933916, -1.0980134 , -1.02034926, -0.94876069,\n",
        "        -0.88293606, -0.82294136, -0.76684356, -0.71396637, -0.6641115 ,\n",
        "        -0.61670262, -0.57141072, -0.52789193, -0.4859544 , -0.44542792,\n",
        "        -0.40602243, -0.36768571, -0.33025736, -0.29356071, -0.25758213,\n",
        "        -0.22213934, -0.18718319, -0.15263654, -0.11838529, -0.08439428,\n",
        "        -0.05056543, -0.01683854,  0.01685004,  0.05057674,  0.08440271,\n",
        "         0.11840249,  0.15264064,  0.18720311,  0.22215633,  0.25758025,\n",
        "         0.29360133,  0.33025101,  0.36771089,  0.40605181,  0.44543016,\n",
        "         0.48599017,  0.52790827,  0.57145655,  0.61671633,  0.66413188,\n",
        "         0.71407109,  0.76681709,  0.82294357,  0.88313955,  0.94870883,\n",
        "         1.02034378,  1.0981642 ,  1.18947673,  1.29656935,  1.40286791,\n",
        "         1.53980839,  1.86178696,  2.29957104,  2.16025043]], dtype=float32)"
       ]
      }
     ],
     "prompt_number": 47
    },
    {
     "cell_type": "code",
     "collapsed": false,
     "input": [],
     "language": "python",
     "metadata": {},
     "outputs": []
    }
   ],
   "metadata": {}
  }
 ]
}