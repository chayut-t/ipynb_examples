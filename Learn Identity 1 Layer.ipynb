{
 "metadata": {
  "name": "",
  "signature": "sha256:5e18cb86f5c93025c0b6ce757ec1183d1993758c5a84405ec5596445df985dbb"
 },
 "nbformat": 3,
 "nbformat_minor": 0,
 "worksheets": [
  {
   "cells": [
    {
     "cell_type": "code",
     "collapsed": false,
     "input": [
      "# Import here\n",
      "%matplotlib inline\n",
      "import matplotlib.pylab as pylab\n",
      "import matplotlib.pyplot as plt\n",
      "import numpy as np\n",
      "import theano\n",
      "import theano.tensor as T\n",
      "\n",
      "pylab.rcParams['figure.figsize'] = (9.0, 6.0)"
     ],
     "language": "python",
     "metadata": {},
     "outputs": [
      {
       "output_type": "stream",
       "stream": "stderr",
       "text": [
        "Using gpu device 0: Quadro K6000\n"
       ]
      }
     ],
     "prompt_number": 1
    },
    {
     "cell_type": "code",
     "collapsed": false,
     "input": [
      "x = T.fmatrix(name='x')\n",
      "A = T.fmatrix(name='A')\n",
      "y = T.dot(A, x)\n",
      "cost = T.mean(T.sum((x - y) ** 2, axis=0, keepdims=True))\n",
      "dA = T.grad(cost, A)\n",
      "f = theano.function(inputs=[x, A],\n",
      "                    outputs=[cost, dA])"
     ],
     "language": "python",
     "metadata": {},
     "outputs": [],
     "prompt_number": 2
    },
    {
     "cell_type": "code",
     "collapsed": false,
     "input": [
      "dim_x = 5\n",
      "dim_batch = 100\n",
      "val_A = np.random.randn(dim_x, dim_x).astype(np.float32) / np.sqrt(5)"
     ],
     "language": "python",
     "metadata": {},
     "outputs": [],
     "prompt_number": 3
    },
    {
     "cell_type": "code",
     "collapsed": false,
     "input": [
      "eta = 10./dim_batch\n",
      "for t in range(100):\n",
      "    val_x = np.random.randn(dim_x, dim_batch).astype(np.float32)\n",
      "    val_cost, val_dA = f(val_x, val_A)\n",
      "    print t, val_cost\n",
      "    val_A -= eta * val_dA"
     ],
     "language": "python",
     "metadata": {},
     "outputs": [
      {
       "output_type": "stream",
       "stream": "stdout",
       "text": [
        "0 8.32910060883\n",
        "1 6.92756414413\n",
        "2 4.27359676361\n",
        "3 2.86882805824\n",
        "4 1.97431242466\n",
        "5 1.00909984112\n",
        "6 0.819539368153\n",
        "7 0.437326788902\n",
        "8 0.324858993292\n",
        "9 0.193760022521\n",
        "10 0.142531827092\n",
        "11 0.0822527185082\n",
        "12 0.0540464706719\n",
        "13 0.040549043566\n",
        "14 0.022033052519\n",
        "15 0.0134007418528\n",
        "16 0.0100008938462\n",
        "17 0.00461608963087\n",
        "18 0.00421692058444\n",
        "19 0.00183940376155\n",
        "20 0.00132594408933\n",
        "21 0.000980254495516\n",
        "22 0.000485067983391\n",
        "23 0.000381104386179\n",
        "24 0.000309171824483\n",
        "25 0.000199684334802\n",
        "26 0.0001245985477\n",
        "27 8.65358961164e-05\n",
        "28 5.68947725696e-05\n",
        "29 4.20140240749e-05\n",
        "30 2.24167106353e-05\n",
        "31 1.61136958923e-05\n",
        "32 9.84169946605e-06\n",
        "33 5.63978619539e-06\n",
        "34 4.88622936246e-06\n",
        "35 2.50275070357e-06\n",
        "36 2.23581696446e-06\n",
        "37 1.41204952797e-06\n",
        "38 8.32138312035e-07\n",
        "39 6.13968722973e-07\n",
        "40 3.36979070426e-07\n",
        "41 2.40306462729e-07\n",
        "42 1.17419453716e-07\n",
        "43 9.01721435298e-08\n",
        "44 4.64724223548e-08\n",
        "45 3.1648550447e-08\n",
        "46 2.7525269175e-08\n",
        "47 1.14150378039e-08\n",
        "48 7.45308081918e-09\n",
        "49 6.08810513114e-09\n",
        "50 3.03588354456e-09\n",
        "51 2.14647144503e-09\n",
        "52 1.18109322322e-09\n",
        "53 9.78434999688e-10\n",
        "54 5.48379230914e-10\n",
        "55 3.48715972764e-10\n",
        "56 2.2321536286e-10\n",
        "57 2.02274350047e-10\n",
        "58 1.01764610627e-10\n",
        "59 4.98017981021e-11\n",
        "60 4.0773225074e-11\n",
        "61 2.54800434224e-11\n",
        "62 1.66343067792e-11\n",
        "63 9.29458593424e-12\n",
        "64 7.08583192122e-12\n",
        "65 6.15729472617e-12\n",
        "66 2.76153535803e-12\n",
        "67 1.98529886107e-12\n",
        "68 1.24541793978e-12\n",
        "69 7.84922257399e-13\n",
        "70 5.20341582322e-13\n",
        "71 3.53174466668e-13\n",
        "72"
       ]
      },
      {
       "output_type": "stream",
       "stream": "stdout",
       "text": [
        " 2.09241085287e-13\n",
        "73 1.09282557775e-13\n",
        "74 1.05723867432e-13\n",
        "75 9.73627781045e-14\n",
        "76 7.98859811852e-14\n",
        "77 6.22137839293e-14\n",
        "78 6.32424207404e-14\n",
        "79 4.3569477453e-14\n",
        "80 4.73710900692e-14\n",
        "81 5.03374943182e-14\n",
        "82 4.25538409035e-14\n",
        "83 5.04752049348e-14\n",
        "84 3.67735864275e-14\n",
        "85 3.64825865644e-14\n",
        "86 3.70116501195e-14\n",
        "87 3.63463531733e-14\n",
        "88 3.86005179101e-14\n",
        "89 3.78067091251e-14\n",
        "90 4.03179144801e-14\n",
        "91 3.75250876108e-14\n",
        "92 4.11568091348e-14\n",
        "93 3.79947233343e-14\n",
        "94 3.83544040169e-14\n",
        "95 3.37250572521e-14\n",
        "96 3.90745310999e-14\n",
        "97 3.70023192045e-14\n",
        "98 3.58983947169e-14\n",
        "99 3.73895182935e-14\n"
       ]
      }
     ],
     "prompt_number": 4
    },
    {
     "cell_type": "code",
     "collapsed": false,
     "input": [
      "print val_A\n",
      "plt.imshow(val_A, interpolation='None')"
     ],
     "language": "python",
     "metadata": {},
     "outputs": [
      {
       "output_type": "stream",
       "stream": "stdout",
       "text": [
        "[[  9.99999940e-01   4.75354422e-09  -2.03632888e-10   2.70868883e-09\n",
        "   -4.14564605e-09]\n",
        " [ -2.72381229e-10   9.99999940e-01   4.27727542e-09  -7.33849204e-10\n",
        "   -2.05646056e-09]\n",
        " [ -2.34329400e-09   3.51361029e-09   9.99999940e-01   1.91649829e-09\n",
        "    9.01530139e-09]\n",
        " [  5.74596370e-10   4.31621316e-09   2.70990896e-09   9.99999940e-01\n",
        "   -4.09515266e-09]\n",
        " [  7.72587105e-10  -4.96816099e-09   4.32309211e-09   1.30315003e-09\n",
        "    9.99999940e-01]]\n"
       ]
      },
      {
       "metadata": {},
       "output_type": "pyout",
       "prompt_number": 5,
       "text": [
        "<matplotlib.image.AxesImage at 0x12018e050>"
       ]
      },
      {
       "metadata": {},
       "output_type": "display_data",
       "png": "[encoded data removed]",
       "text": [
        "<matplotlib.figure.Figure at 0x10679c1d0>"
       ]
      }
     ],
     "prompt_number": 5
    },
    {
     "cell_type": "code",
     "collapsed": false,
     "input": [],
     "language": "python",
     "metadata": {},
     "outputs": [],
     "prompt_number": 5
    }
   ],
   "metadata": {}
  }
 ]
}